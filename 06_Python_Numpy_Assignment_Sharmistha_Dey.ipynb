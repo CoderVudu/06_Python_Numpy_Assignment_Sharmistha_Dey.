{
  "nbformat": 4,
  "nbformat_minor": 0,
  "metadata": {
    "colab": {
      "provenance": [],
      "authorship_tag": "ABX9TyPJzZmPI3+kC5YrD+osJB4X",
      "include_colab_link": true
    },
    "kernelspec": {
      "name": "python3",
      "display_name": "Python 3"
    },
    "language_info": {
      "name": "python"
    }
  },
  "cells": [
    {
      "cell_type": "markdown",
      "metadata": {
        "id": "view-in-github",
        "colab_type": "text"
      },
      "source": [
        "<a href=\"https://colab.research.google.com/github/CoderVudu/06_Python_Numpy_Assignment_Sharmistha_Dey./blob/main/06_Python_Numpy_Assignment_Sharmistha_Dey.ipynb\" target=\"_parent\"><img src=\"https://colab.research.google.com/assets/colab-badge.svg\" alt=\"Open In Colab\"/></a>"
      ]
    },
    {
      "cell_type": "markdown",
      "source": [
        "# Theoretical Questions:\n"
      ],
      "metadata": {
        "id": "ig7fY4te2lky"
      }
    },
    {
      "cell_type": "markdown",
      "source": [
        "##Q 1. Explain the purpose and advantages of NumPy in scientific computing and data analysis. How does it enhance Python's capabilities for numerical operations?"
      ],
      "metadata": {
        "id": "OFgTxlUC2wEz"
      }
    },
    {
      "cell_type": "markdown",
      "source": [
        "NumPy is a foundational library in Python for scientific computing and data analysis, offering a powerful array object that enhances Python’s capabilities for handling numerical data. Its core purpose is to provide efficient and flexible tools for performing mathematical and logical operations on large datasets. NumPy arrays enable faster computations than standard Python lists by storing elements in contiguous memory locations, which minimizes overhead and supports vectorized operations, where entire arrays are processed simultaneously rather than element by element.\n",
        "\n",
        "Advantages of NumPy include built-in functions for array manipulation, linear algebra, and random number generation, making it suitable for handling multidimensional data, performing complex calculations, and creating custom algorithms. Additionally, NumPy seamlessly integrates with other scientific libraries like SciPy and Pandas, further extending its utility in machine learning, statistics, and data science. By optimizing speed and memory use, NumPy is crucial for large-scale data processing and advanced numerical analysis in Python."
      ],
      "metadata": {
        "id": "yxmlTi8n2yg5"
      }
    },
    {
      "cell_type": "markdown",
      "source": [
        "##Q 2. Compare and contrast np.mean() and np.average() functions in NumPy. When would you use one over the other?"
      ],
      "metadata": {
        "id": "wMckrs8O3Tc2"
      }
    },
    {
      "cell_type": "markdown",
      "source": [
        "In NumPy, `np.mean()` calculates the arithmetic mean of an array’s elements, treating all elements equally by default. It’s straightforward and ideal when a simple average is required. Conversely, `np.average()` can compute a weighted average if weights are provided, allowing for specific elements to contribute more significantly to the result. Without weights, `np.average()` behaves like `np.mean()`.\n",
        "\n",
        "Use `np.mean()` for unweighted data or when weights aren’t relevant, as it's simpler and faster. Choose `np.average()` when different elements should have varying levels of influence, such as in financial or statistical calculations involving weighted values."
      ],
      "metadata": {
        "id": "w11CQ1wP3eTW"
      }
    },
    {
      "cell_type": "markdown",
      "source": [
        "##Q 3. Describe the methods for reversing a NumPy array along different axes. Provide examples for 1D and 2D arrays."
      ],
      "metadata": {
        "id": "TtMBvuhQ34MA"
      }
    },
    {
      "cell_type": "markdown",
      "source": [
        "In NumPy, arrays can be reversed along different axes using slicing or specific functions like `np.flip`.\n",
        "\n",
        "For a **1D array**, reversing is straightforward using slicing `[::-1]`. For example:\n",
        "```python\n",
        "import numpy as np\n",
        "arr = np.array([1, 2, 3, 4])\n",
        "reversed_arr = arr[::-1]  # Output: [4, 3, 2, 1]\n",
        "```\n",
        "\n",
        "For a **2D array**, reversing along the rows or columns can be done with slicing or `np.flip`:\n",
        "1. **Reversing rows** (axis 0):\n",
        "   ```python\n",
        "   arr2D = np.array([[1, 2], [3, 4]])\n",
        "   reversed_rows = arr2D[::-1, :]  # Output: [[3, 4], [1, 2]]\n",
        "   ```\n",
        "\n",
        "2. **Reversing columns** (axis 1):\n",
        "   ```python\n",
        "   reversed_cols = arr2D[:, ::-1]  # Output: [[2, 1], [4, 3]]\n",
        "   ```\n",
        "\n",
        "Alternatively, `np.flip(arr2D, axis=0)` flips along rows, and `np.flip(arr2D, axis=1)` along columns, providing a flexible approach for multi-dimensional arrays."
      ],
      "metadata": {
        "id": "tLV2Fy6F3_8w"
      }
    },
    {
      "cell_type": "markdown",
      "source": [
        "##Q 4. How can you determine the data type of elements in a NumPy array? Discuss the importance of data types in memory management and performance."
      ],
      "metadata": {
        "id": "Zvz9HHTM4QCW"
      }
    },
    {
      "cell_type": "markdown",
      "source": [
        "To determine the data type of elements in a NumPy array, use the `.dtype` attribute, which reveals the array's data type. Data types are critical in memory management and performance because they define how much memory each element occupies. For instance, `int32` uses 4 bytes, while `int64` uses 8 bytes. Choosing the smallest suitable data type minimizes memory usage, allowing larger arrays to fit into memory and improving computation speed. Additionally, matching data types with operations enhances efficiency, as NumPy’s vectorized operations are optimized for specific data types, resulting in faster execution."
      ],
      "metadata": {
        "id": "iDcvlpWP4sUJ"
      }
    },
    {
      "cell_type": "markdown",
      "source": [
        "##Q 5. Define ndarrays in NumPy and explain their key features. How do they differ from standard Python lists?"
      ],
      "metadata": {
        "id": "_zOTJPdx431V"
      }
    },
    {
      "cell_type": "markdown",
      "source": [
        "In NumPy, an ndarray (n-dimensional array) is a powerful, multidimensional container for homogeneous data, meaning all elements must be of the same data type. Ndarrays support complex mathematical operations and broadcasting, allowing efficient element-wise operations without explicit loops. Key features include high performance due to contiguous memory allocation, vectorized operations, and extensive functionality for data manipulation, reshaping, and slicing. Unlike Python lists, ndarrays consume less memory, enable faster computations, and are designed for numerical tasks. Lists, while flexible in types, lack such optimized operations, making them less suitable for large-scale numeric processing and scientific computing."
      ],
      "metadata": {
        "id": "MmUMH6WA5BLN"
      }
    },
    {
      "cell_type": "markdown",
      "source": [
        "##Q 6. Analyze the performance benefits of NumPy arrays over Python lists for large-scale numerical operations."
      ],
      "metadata": {
        "id": "IW75ap675JEg"
      }
    },
    {
      "cell_type": "markdown",
      "source": [
        "NumPy arrays offer significant performance advantages over Python lists for large-scale numerical operations due to their efficient memory management and optimized, compiled C code. Unlike lists, NumPy arrays store elements of the same data type in contiguous memory, enabling rapid data access and manipulation. This homogeneity allows for vectorized operations, where element-wise calculations are executed without Python loops, reducing overhead and boosting speed. NumPy also leverages low-level optimizations, such as SIMD (Single Instruction, Multiple Data) and parallel processing. These features result in substantial performance improvements, especially for high-dimensional data and large-scale computations common in scientific and numerical applications."
      ],
      "metadata": {
        "id": "BpoWKuFU5OKu"
      }
    },
    {
      "cell_type": "markdown",
      "source": [
        "##Q 7. Compare vstack() and hstack() functions in NumPy. Provide examples demonstrating their usage and output."
      ],
      "metadata": {
        "id": "Dq_STnnB5Ukf"
      }
    },
    {
      "cell_type": "markdown",
      "source": [
        "In NumPy, `vstack()` and `hstack()` are used to stack arrays vertically and horizontally, respectively. `vstack()` combines arrays row-wise, increasing the number of rows, while `hstack()` stacks them column-wise, increasing the number of columns.\n",
        "\n",
        "For example:\n",
        "\n",
        "```python\n",
        "import numpy as np\n",
        "\n",
        "a = np.array([1, 2, 3])\n",
        "b = np.array([4, 5, 6])\n",
        "\n",
        "# Vertical stack\n",
        "v = np.vstack((a, b))  # Output: [[1, 2, 3], [4, 5, 6]]\n",
        "\n",
        "# Horizontal stack\n",
        "h = np.hstack((a, b))  # Output: [1, 2, 3, 4, 5, 6]\n",
        "```\n",
        "\n",
        "`vstack()` is useful for creating multi-row matrices, while `hstack()` is helpful for concatenating arrays side-by-side."
      ],
      "metadata": {
        "id": "Igl1cfQ15hp3"
      }
    },
    {
      "cell_type": "markdown",
      "source": [
        "##Q 8. Explain the differences between fliplr() and flipud() methods in NumPy, including their effects on various array dimensions."
      ],
      "metadata": {
        "id": "LcmEk3ob5o7Z"
      }
    },
    {
      "cell_type": "markdown",
      "source": [
        "In NumPy, `fliplr()` and `flipud()` are array flipping methods with distinct behaviors. `fliplr()` flips a 2D array horizontally, reversing the order of elements along the last axis (columns). For example, an array's first column becomes its last. This function requires an array with at least two dimensions.\n",
        "\n",
        "On the other hand, `flipud()` flips an array vertically by reversing elements along the first axis (rows), making the top row the bottom. Unlike `fliplr()`, `flipud()` works on any array with one or more dimensions. Both methods maintain array shape while reordering elements."
      ],
      "metadata": {
        "id": "BBLzxC5C519Y"
      }
    },
    {
      "cell_type": "markdown",
      "source": [
        "##Q 9. Discuss the functionality of the array_split() method in NumPy. How does it handle uneven splits?"
      ],
      "metadata": {
        "id": "bEL-m5qM6DZr"
      }
    },
    {
      "cell_type": "markdown",
      "source": [
        "The `array_split()` method in NumPy divides an array into specified subarrays. Unlike `split()`, which requires equal-sized splits, `array_split()` handles cases where the array cannot be evenly divided. It creates subarrays of approximately equal size, distributing any remaining elements across the initial subarrays. For example, if an array of length 10 is split into 3 parts, `array_split()` will return subarrays of lengths 4, 3, and 3, respectively, rather than failing. This makes it particularly useful when handling data that may not divide evenly, enabling flexible partitioning without error."
      ],
      "metadata": {
        "id": "t25WAQ-G6L-v"
      }
    },
    {
      "cell_type": "markdown",
      "source": [
        "##Q 10. Explain the concepts of vectorization and broadcasting in NumPy. How do they contribute to efficient array operations?"
      ],
      "metadata": {
        "id": "LSXDaFS96VbR"
      }
    },
    {
      "cell_type": "markdown",
      "source": [
        "In NumPy, **vectorization** allows operations to be applied to entire arrays without explicit loops, harnessing optimized C code for faster execution. This avoids Python’s loop overhead and results in concise, efficient code. **Broadcasting** enables arithmetic operations on arrays of different shapes by “stretching” smaller arrays to match larger ones, without creating redundant copies. Together, vectorization and broadcasting improve computational efficiency by leveraging underlying optimizations and memory management, which is essential for large-scale data processing and scientific computing. These techniques allow NumPy to perform complex array operations quickly and with minimal code."
      ],
      "metadata": {
        "id": "LHLxGzGD6dTT"
      }
    },
    {
      "cell_type": "markdown",
      "source": [
        "#Practical Questions:"
      ],
      "metadata": {
        "id": "a03PwSlD6sgv"
      }
    },
    {
      "cell_type": "markdown",
      "source": [
        "##Q 1. Create a 3x3 NumPy array with random integers between 1 and 100. Then, interchange its rows and columns."
      ],
      "metadata": {
        "id": "WPKJxnsq6yOy"
      }
    },
    {
      "cell_type": "code",
      "source": [
        "import numpy as np\n",
        "\n",
        "# Create a 3x3 array with random integers between 1 and 100\n",
        "array = np.random.randint(1, 101, size=(3, 3))\n",
        "print(\"Original Array:\\n\", array)\n",
        "\n",
        "# Interchange rows and columns (transpose the array)\n",
        "transposed_array = array.T\n",
        "print(\"Transposed Array:\\n\", transposed_array)\n"
      ],
      "metadata": {
        "colab": {
          "base_uri": "https://localhost:8080/"
        },
        "id": "YnfojjZs7Ewi",
        "outputId": "765f1973-24ac-4bf5-f87b-ca862d6622ee"
      },
      "execution_count": 1,
      "outputs": [
        {
          "output_type": "stream",
          "name": "stdout",
          "text": [
            "Original Array:\n",
            " [[86 88 66]\n",
            " [24 32 98]\n",
            " [42 33 33]]\n",
            "Transposed Array:\n",
            " [[86 24 42]\n",
            " [88 32 33]\n",
            " [66 98 33]]\n"
          ]
        }
      ]
    },
    {
      "cell_type": "markdown",
      "source": [
        "##Q 2. Generate a 1D NumPy array with 10 elements. Reshape it into a 2x5 array, then into a 5x2 array."
      ],
      "metadata": {
        "id": "JIETi4Sy7KDC"
      }
    },
    {
      "cell_type": "code",
      "source": [
        "import numpy as np\n",
        "\n",
        "# Generate a 1D array with 10 elements\n",
        "array_1d = np.arange(10)\n",
        "\n",
        "# Reshape the 1D array into a 2x5 array\n",
        "array_2x5 = array_1d.reshape(2, 5)\n",
        "\n",
        "# Reshape the 1D array into a 5x2 array\n",
        "array_5x2 = array_1d.reshape(5, 2)\n",
        "\n",
        "print(\"1D Array:\", array_1d)\n",
        "print(\"2x5 Array:\\n\", array_2x5)\n",
        "print(\"5x2 Array:\\n\", array_5x2)\n"
      ],
      "metadata": {
        "colab": {
          "base_uri": "https://localhost:8080/"
        },
        "id": "nX0rLSVg93G_",
        "outputId": "7c28d157-8bff-4010-d710-3cfab26e1a0e"
      },
      "execution_count": 2,
      "outputs": [
        {
          "output_type": "stream",
          "name": "stdout",
          "text": [
            "1D Array: [0 1 2 3 4 5 6 7 8 9]\n",
            "2x5 Array:\n",
            " [[0 1 2 3 4]\n",
            " [5 6 7 8 9]]\n",
            "5x2 Array:\n",
            " [[0 1]\n",
            " [2 3]\n",
            " [4 5]\n",
            " [6 7]\n",
            " [8 9]]\n"
          ]
        }
      ]
    },
    {
      "cell_type": "markdown",
      "source": [
        "##Q 3. Create a 4x4 NumPy array with random float values. Add a border of zeros around it, resulting in a 6x6 array."
      ],
      "metadata": {
        "id": "o83FMQSf9-Cr"
      }
    },
    {
      "cell_type": "code",
      "source": [
        "import numpy as np\n",
        "\n",
        "# Create a 4x4 array with random floats\n",
        "array_4x4 = np.random.rand(4, 4)\n",
        "\n",
        "# Add a border of zeros\n",
        "array_6x6 = np.pad(array_4x4, pad_width=1, mode='constant', constant_values=0)\n",
        "\n",
        "print(array_6x6)\n"
      ],
      "metadata": {
        "colab": {
          "base_uri": "https://localhost:8080/"
        },
        "id": "W1US2wW2-Ea6",
        "outputId": "ea89f4ed-ecd1-4cbd-8f13-87f2bff6ca27"
      },
      "execution_count": 3,
      "outputs": [
        {
          "output_type": "stream",
          "name": "stdout",
          "text": [
            "[[0.         0.         0.         0.         0.         0.        ]\n",
            " [0.         0.953102   0.17775874 0.13818275 0.92959594 0.        ]\n",
            " [0.         0.82630584 0.45998036 0.3545826  0.65249082 0.        ]\n",
            " [0.         0.40364726 0.29760576 0.13270522 0.87932341 0.        ]\n",
            " [0.         0.99410717 0.60430854 0.39528338 0.82366539 0.        ]\n",
            " [0.         0.         0.         0.         0.         0.        ]]\n"
          ]
        }
      ]
    },
    {
      "cell_type": "markdown",
      "source": [
        "##Q 4. Using NumPy, create an array of integers from 10 to 60 with a step of 5."
      ],
      "metadata": {
        "id": "Ib0TBiS4-TLj"
      }
    },
    {
      "cell_type": "code",
      "source": [
        "import numpy as np\n",
        "\n",
        "# Create an array of integers from 10 to 60 with a step of 5\n",
        "array = np.arange(10, 61, 5)\n",
        "\n",
        "# Display the array\n",
        "print(array)\n"
      ],
      "metadata": {
        "colab": {
          "base_uri": "https://localhost:8080/"
        },
        "id": "uKkT6QS4-Xfl",
        "outputId": "768aeb00-3b80-409f-e83a-9d99c8e8df0c"
      },
      "execution_count": 4,
      "outputs": [
        {
          "output_type": "stream",
          "name": "stdout",
          "text": [
            "[10 15 20 25 30 35 40 45 50 55 60]\n"
          ]
        }
      ]
    },
    {
      "cell_type": "markdown",
      "source": [
        "##Q 5. Create a NumPy array of strings ['python', 'numpy', 'pandas']. Apply different case transformations (uppercase, lowercase, title case, etc.) to each element."
      ],
      "metadata": {
        "id": "6kk3qcu7-c03"
      }
    },
    {
      "cell_type": "code",
      "source": [
        "import numpy as np\n",
        "\n",
        "# Create a NumPy array of strings\n",
        "arr = np.array(['python', 'numpy', 'pandas'])\n",
        "\n",
        "# Apply different case transformations\n",
        "# Use np.char.upper() to apply the upper() method to each element of the array\n",
        "uppercase = np.char.upper(arr)     # Uppercase\n",
        "lowercase = np.char.lower(arr)     # Lowercase\n",
        "titlecase = np.char.title(arr)     # Title case\n",
        "capitalize = np.char.capitalize(arr)  # Capitalize\n",
        "\n",
        "# Display the results\n",
        "print(\"Uppercase:\", uppercase)\n",
        "print(\"Lowercase:\", lowercase)\n",
        "print(\"Title Case:\", titlecase)\n",
        "print(\"Capitalize:\", capitalize)"
      ],
      "metadata": {
        "colab": {
          "base_uri": "https://localhost:8080/"
        },
        "id": "V1PSn1J5-iv-",
        "outputId": "25081039-b90d-42e6-8f76-ece389fc9242"
      },
      "execution_count": 6,
      "outputs": [
        {
          "output_type": "stream",
          "name": "stdout",
          "text": [
            "Uppercase: ['PYTHON' 'NUMPY' 'PANDAS']\n",
            "Lowercase: ['python' 'numpy' 'pandas']\n",
            "Title Case: ['Python' 'Numpy' 'Pandas']\n",
            "Capitalize: ['Python' 'Numpy' 'Pandas']\n"
          ]
        }
      ]
    },
    {
      "cell_type": "markdown",
      "source": [
        "##Q 6. Generate a NumPy array of words. Insert a space between each character of every word in the array.\n",
        "\n",
        "\n"
      ],
      "metadata": {
        "id": "RQzuGHCI-4I5"
      }
    },
    {
      "cell_type": "code",
      "source": [
        "import numpy as np\n",
        "\n",
        "# Create a NumPy array of words\n",
        "words = np.array(['hello', 'world', 'numpy', 'array'])\n",
        "\n",
        "# Insert a space between each character of every word\n",
        "spaced_words = np.array([' '.join(word) for word in words])\n",
        "\n",
        "print(spaced_words)\n"
      ],
      "metadata": {
        "colab": {
          "base_uri": "https://localhost:8080/"
        },
        "id": "d-voumw6_DoY",
        "outputId": "c1c1eea9-fc7a-44dd-dae0-804e220dc4d8"
      },
      "execution_count": 7,
      "outputs": [
        {
          "output_type": "stream",
          "name": "stdout",
          "text": [
            "['h e l l o' 'w o r l d' 'n u m p y' 'a r r a y']\n"
          ]
        }
      ]
    },
    {
      "cell_type": "markdown",
      "source": [
        "##Q 7. Create two 2D NumPy arrays and perform element-wise addition, subtraction, multiplication, and division.\n",
        "\n",
        "\n"
      ],
      "metadata": {
        "id": "Wur-VmP6_K1w"
      }
    },
    {
      "cell_type": "code",
      "source": [
        "import numpy as np\n",
        "\n",
        "# Create two 2D NumPy arrays\n",
        "array1 = np.array([[1, 2, 3], [4, 5, 6]])\n",
        "array2 = np.array([[7, 8, 9], [10, 11, 12]])\n",
        "\n",
        "# Element-wise operations\n",
        "addition = array1 + array2           # Addition\n",
        "subtraction = array1 - array2        # Subtraction\n",
        "multiplication = array1 * array2     # Multiplication\n",
        "division = array1 / array2           # Division\n",
        "\n",
        "print(\"Addition:\\n\", addition)\n",
        "print(\"Subtraction:\\n\", subtraction)\n",
        "print(\"Multiplication:\\n\", multiplication)\n",
        "print(\"Division:\\n\", division)\n"
      ],
      "metadata": {
        "colab": {
          "base_uri": "https://localhost:8080/"
        },
        "id": "g253qDI6_P3a",
        "outputId": "85702f79-4d04-4fcc-e30b-b072611c018d"
      },
      "execution_count": 8,
      "outputs": [
        {
          "output_type": "stream",
          "name": "stdout",
          "text": [
            "Addition:\n",
            " [[ 8 10 12]\n",
            " [14 16 18]]\n",
            "Subtraction:\n",
            " [[-6 -6 -6]\n",
            " [-6 -6 -6]]\n",
            "Multiplication:\n",
            " [[ 7 16 27]\n",
            " [40 55 72]]\n",
            "Division:\n",
            " [[0.14285714 0.25       0.33333333]\n",
            " [0.4        0.45454545 0.5       ]]\n"
          ]
        }
      ]
    },
    {
      "cell_type": "markdown",
      "source": [
        "##Q 8. Use NumPy to create a 5x5 identity matrix, then extract its diagonal elements."
      ],
      "metadata": {
        "id": "RyHNdo0__Yvk"
      }
    },
    {
      "cell_type": "code",
      "source": [
        "import numpy as np\n",
        "\n",
        "# Create a 5x5 identity matrix\n",
        "identity_matrix = np.eye(5)\n",
        "\n",
        "# Extract the diagonal elements\n",
        "diagonal_elements = identity_matrix.diagonal()\n",
        "\n",
        "print(\"Identity Matrix:\\n\", identity_matrix)\n",
        "print(\"Diagonal Elements:\", diagonal_elements)\n"
      ],
      "metadata": {
        "colab": {
          "base_uri": "https://localhost:8080/"
        },
        "id": "dMFjnb9n_cmK",
        "outputId": "c6c48407-32f0-477a-c9c0-16abab9f4bf2"
      },
      "execution_count": 9,
      "outputs": [
        {
          "output_type": "stream",
          "name": "stdout",
          "text": [
            "Identity Matrix:\n",
            " [[1. 0. 0. 0. 0.]\n",
            " [0. 1. 0. 0. 0.]\n",
            " [0. 0. 1. 0. 0.]\n",
            " [0. 0. 0. 1. 0.]\n",
            " [0. 0. 0. 0. 1.]]\n",
            "Diagonal Elements: [1. 1. 1. 1. 1.]\n"
          ]
        }
      ]
    },
    {
      "cell_type": "markdown",
      "source": [
        "##Q 9. Generate a NumPy array of 100 random integers between 0 and 1000. Find and display all prime numbers in this array."
      ],
      "metadata": {
        "id": "MgnRyfYH_i3b"
      }
    },
    {
      "cell_type": "code",
      "source": [
        "import numpy as np\n",
        "\n",
        "# Generate an array of 100 random integers\n",
        "random_integers = np.random.randint(0, 1001, 100)\n",
        "\n",
        "# Function to check for prime numbers\n",
        "def is_prime(n):\n",
        "    if n <= 1:\n",
        "        return False\n",
        "    for i in range(2, int(n**0.5) + 1):\n",
        "        if n % i == 0:\n",
        "            return False\n",
        "    return True\n",
        "\n",
        "# Filter and display prime numbers\n",
        "prime_numbers = [num for num in random_integers if is_prime(num)]\n",
        "print(prime_numbers)\n"
      ],
      "metadata": {
        "colab": {
          "base_uri": "https://localhost:8080/"
        },
        "id": "nbXlxNfE_zJW",
        "outputId": "78826fea-edab-4709-ae86-6bb2cb432271"
      },
      "execution_count": 10,
      "outputs": [
        {
          "output_type": "stream",
          "name": "stdout",
          "text": [
            "[71, 59, 233, 937, 677, 607, 439, 71, 647, 461, 521, 587, 137, 433, 389, 421, 37, 487, 967]\n"
          ]
        }
      ]
    },
    {
      "cell_type": "markdown",
      "source": [
        "##Q 10. Create a NumPy array representing daily temperatures for a month. Calculate and display the weekly averages."
      ],
      "metadata": {
        "id": "uFHBseLN_6mk"
      }
    },
    {
      "cell_type": "code",
      "source": [
        "import numpy as np\n",
        "\n",
        "# Create an array of daily temperatures for 30 days\n",
        "temperatures = np.random.randint(0, 35, size=30)\n",
        "\n",
        "# Reshape the array into a shape compatible with the number of elements\n",
        "# For example, reshape into 5 weeks of 6 days each (5 * 6 = 30)\n",
        "weekly_temperatures = temperatures.reshape(5, 6)\n",
        "\n",
        "# Calculate the average temperature for each week\n",
        "weekly_averages = weekly_temperatures.mean(axis=1)\n",
        "\n",
        "print(\"Daily Temperatures:\", temperatures)\n",
        "print(\"Weekly Averages:\", weekly_averages)"
      ],
      "metadata": {
        "colab": {
          "base_uri": "https://localhost:8080/"
        },
        "id": "EQ9q9N8qAHi_",
        "outputId": "a82fd88f-4a68-4162-aebf-e01aea073bc9"
      },
      "execution_count": 12,
      "outputs": [
        {
          "output_type": "stream",
          "name": "stdout",
          "text": [
            "Daily Temperatures: [34  6 20 31  5  2 14 17 15 18  1 12 19 16 19 29 18 21 13 13 30  7 25 26\n",
            " 26  9  6 25 14  8]\n",
            "Weekly Averages: [16.33333333 12.83333333 20.33333333 19.         14.66666667]\n"
          ]
        }
      ]
    }
  ]
}